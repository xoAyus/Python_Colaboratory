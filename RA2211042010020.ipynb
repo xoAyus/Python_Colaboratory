{
  "cells": [
    {
      "cell_type": "markdown",
      "metadata": {
        "id": "view-in-github",
        "colab_type": "text"
      },
      "source": [
        "<a href=\"https://colab.research.google.com/github/xoAyus/Python_Colaboratory/blob/main/RA2211042010020.ipynb\" target=\"_parent\"><img src=\"https://colab.research.google.com/assets/colab-badge.svg\" alt=\"Open In Colab\"/></a>"
      ]
    },
    {
      "cell_type": "markdown",
      "source": [
        "1) Printing text"
      ],
      "metadata": {
        "id": "3rGJh33sNAfM"
      }
    },
    {
      "cell_type": "code",
      "source": [
        "print(\"Python Programming\")"
      ],
      "metadata": {
        "id": "DIcG146GGqy5",
        "outputId": "4ff5f3a8-46b0-40e8-cbd7-19d9bb399d6b",
        "colab": {
          "base_uri": "https://localhost:8080/"
        }
      },
      "execution_count": null,
      "outputs": [
        {
          "output_type": "stream",
          "name": "stdout",
          "text": [
            "Python Programming\n"
          ]
        }
      ]
    },
    {
      "cell_type": "markdown",
      "source": [
        "2)Assigning Variables"
      ],
      "metadata": {
        "id": "qpfXDfuTNMCB"
      }
    },
    {
      "cell_type": "code",
      "source": [
        "x=3\n",
        "y=4.7\n",
        "print(x+y)"
      ],
      "metadata": {
        "id": "kidTC-QjG3jK",
        "colab": {
          "base_uri": "https://localhost:8080/"
        },
        "outputId": "551bb666-2443-44dc-d7cd-3523b2a95227"
      },
      "execution_count": 1,
      "outputs": [
        {
          "output_type": "stream",
          "name": "stdout",
          "text": [
            "7.7\n"
          ]
        }
      ]
    },
    {
      "cell_type": "markdown",
      "source": [
        "3) Checking datatype"
      ],
      "metadata": {
        "id": "2h_VkS_gNVNG"
      }
    },
    {
      "cell_type": "code",
      "source": [
        "s=(1,2,3,4,5,6)\n",
        "print(type(s))"
      ],
      "metadata": {
        "colab": {
          "base_uri": "https://localhost:8080/"
        },
        "id": "244-9cCDHrvD",
        "outputId": "6dd36f51-edfd-40ed-b0b9-4dcf2570026f"
      },
      "execution_count": 2,
      "outputs": [
        {
          "output_type": "stream",
          "name": "stdout",
          "text": [
            "<class 'tuple'>\n"
          ]
        }
      ]
    },
    {
      "cell_type": "markdown",
      "source": [
        "4) Taking string input from user"
      ],
      "metadata": {
        "id": "NmDmrX5SNjKz"
      }
    },
    {
      "cell_type": "code",
      "source": [
        "msg=input(\"Enter any message: \")\n",
        "print(msg)"
      ],
      "metadata": {
        "colab": {
          "base_uri": "https://localhost:8080/"
        },
        "id": "ujIncAINH87_",
        "outputId": "4b6acec8-787f-464c-e011-2307d2386364"
      },
      "execution_count": 3,
      "outputs": [
        {
          "output_type": "stream",
          "name": "stdout",
          "text": [
            "Enter any message: Hello World!\n",
            "Hello World!\n"
          ]
        }
      ]
    },
    {
      "cell_type": "markdown",
      "source": [
        "5) Taking integer input from user"
      ],
      "metadata": {
        "id": "qcyugZSuNm6p"
      }
    },
    {
      "cell_type": "code",
      "source": [
        "x=int(input(\"Enter an integr: \"))\n",
        "print(x)"
      ],
      "metadata": {
        "colab": {
          "base_uri": "https://localhost:8080/"
        },
        "id": "lo2tQcs2NqYh",
        "outputId": "719f5740-dc7b-4740-c6bd-2677040791f0"
      },
      "execution_count": 16,
      "outputs": [
        {
          "output_type": "stream",
          "name": "stdout",
          "text": [
            "Enter an integr: 10\n",
            "10\n"
          ]
        }
      ]
    },
    {
      "cell_type": "markdown",
      "source": [
        "6)Converting to uppercase"
      ],
      "metadata": {
        "id": "kCpV-xTtNwGR"
      }
    },
    {
      "cell_type": "code",
      "source": [
        "str1=\"programming\"\n",
        "print(str1.upper())"
      ],
      "metadata": {
        "colab": {
          "base_uri": "https://localhost:8080/"
        },
        "id": "wOAOTTE9ILoo",
        "outputId": "c8551953-daf3-4a06-f242-7d8723a39e6e"
      },
      "execution_count": 4,
      "outputs": [
        {
          "output_type": "stream",
          "name": "stdout",
          "text": [
            "PROGRAMMING\n"
          ]
        }
      ]
    },
    {
      "cell_type": "markdown",
      "source": [
        "7)Converting to lowercase"
      ],
      "metadata": {
        "id": "RZ4FC-RmN1KE"
      }
    },
    {
      "cell_type": "code",
      "source": [
        "str1=\"PROGRAMMING\"\n",
        "print(str1.lower())"
      ],
      "metadata": {
        "id": "Fk94y7VON3tR"
      },
      "execution_count": null,
      "outputs": []
    },
    {
      "cell_type": "markdown",
      "source": [
        "8)Normal addition"
      ],
      "metadata": {
        "id": "6lfJxnOUOF_l"
      }
    },
    {
      "cell_type": "code",
      "source": [
        "2+3"
      ],
      "metadata": {
        "colab": {
          "base_uri": "https://localhost:8080/"
        },
        "id": "gv29pmaBIjbf",
        "outputId": "2fe33924-ab1d-46c8-aa75-fcbb7078be74"
      },
      "execution_count": 5,
      "outputs": [
        {
          "output_type": "execute_result",
          "data": {
            "text/plain": [
              "5"
            ]
          },
          "metadata": {},
          "execution_count": 5
        }
      ]
    },
    {
      "cell_type": "markdown",
      "source": [
        "9)Addition with variables"
      ],
      "metadata": {
        "id": "Z1V5zp1bOJh2"
      }
    },
    {
      "cell_type": "code",
      "source": [
        "x=3\n",
        "y=5\n",
        "print(x+y)"
      ],
      "metadata": {
        "colab": {
          "base_uri": "https://localhost:8080/"
        },
        "id": "3PxSJSWOKdhU",
        "outputId": "31e97fa1-4e9f-43df-b9ee-df8d51b70445"
      },
      "execution_count": 8,
      "outputs": [
        {
          "output_type": "stream",
          "name": "stdout",
          "text": [
            "8\n"
          ]
        }
      ]
    },
    {
      "cell_type": "markdown",
      "source": [
        "10)String Concatenation"
      ],
      "metadata": {
        "id": "HPjXf--oOMnu"
      }
    },
    {
      "cell_type": "code",
      "source": [
        "s1='hello '\n",
        "s2='world'\n",
        "print(s1+s2)"
      ],
      "metadata": {
        "colab": {
          "base_uri": "https://localhost:8080/"
        },
        "id": "r0p1swowKtLE",
        "outputId": "a3ebbacd-9093-494d-f412-40e6a7fc06b9"
      },
      "execution_count": 18,
      "outputs": [
        {
          "output_type": "stream",
          "name": "stdout",
          "text": [
            "hello world\n"
          ]
        }
      ]
    },
    {
      "cell_type": "markdown",
      "source": [
        "11)String Replication"
      ],
      "metadata": {
        "id": "cHmiRaQpOPjs"
      }
    },
    {
      "cell_type": "code",
      "source": [
        "str1=\"python\"\n",
        "print(str1*5)"
      ],
      "metadata": {
        "colab": {
          "base_uri": "https://localhost:8080/"
        },
        "id": "EFeUEU6wOUa9",
        "outputId": "ff1e33e0-dea1-4a90-d8f9-f1bcab769fb9"
      },
      "execution_count": 17,
      "outputs": [
        {
          "output_type": "stream",
          "name": "stdout",
          "text": [
            "pythonpythonpythonpythonpython\n"
          ]
        }
      ]
    },
    {
      "cell_type": "markdown",
      "source": [
        "12)Horizontal tab"
      ],
      "metadata": {
        "id": "rAbP4cBDOq-u"
      }
    },
    {
      "cell_type": "code",
      "source": [
        "print(\"Hello \\tWorld!\")"
      ],
      "metadata": {
        "colab": {
          "base_uri": "https://localhost:8080/"
        },
        "id": "IBVpteQOLDXY",
        "outputId": "d710ff1e-f8d6-4add-f826-db2576c3bdda"
      },
      "execution_count": 10,
      "outputs": [
        {
          "output_type": "stream",
          "name": "stdout",
          "text": [
            "Hello \tWorld!\n"
          ]
        }
      ]
    },
    {
      "cell_type": "markdown",
      "source": [
        "13)Vertical tab"
      ],
      "metadata": {
        "id": "1a7Aj6T6OtZV"
      }
    },
    {
      "cell_type": "code",
      "source": [
        "print(\"Hello \\nWorld!\")"
      ],
      "metadata": {
        "colab": {
          "base_uri": "https://localhost:8080/"
        },
        "id": "2O7m-qWOLKuv",
        "outputId": "aa685af1-e691-4675-d596-5be7ee70e6c8"
      },
      "execution_count": 11,
      "outputs": [
        {
          "output_type": "stream",
          "name": "stdout",
          "text": [
            "Hello \n",
            "World!\n"
          ]
        }
      ]
    },
    {
      "cell_type": "markdown",
      "source": [
        "14)sin error"
      ],
      "metadata": {
        "id": "d6yFBvr5O4xO"
      }
    },
    {
      "cell_type": "code",
      "source": [
        "y=10\n",
        "x=1.2+8+sin(y)\n",
        "print(y)"
      ],
      "metadata": {
        "colab": {
          "base_uri": "https://localhost:8080/",
          "height": 201
        },
        "id": "Zuz5PIKpLQPe",
        "outputId": "3f66cfa4-9fec-4460-fd3f-6f0358b5e0e9"
      },
      "execution_count": 12,
      "outputs": [
        {
          "output_type": "error",
          "ename": "NameError",
          "evalue": "ignored",
          "traceback": [
            "\u001b[0;31m---------------------------------------------------------------------------\u001b[0m",
            "\u001b[0;31mNameError\u001b[0m                                 Traceback (most recent call last)",
            "\u001b[0;32m<ipython-input-12-f100f4782d09>\u001b[0m in \u001b[0;36m<module>\u001b[0;34m\u001b[0m\n\u001b[1;32m      1\u001b[0m \u001b[0my\u001b[0m\u001b[0;34m=\u001b[0m\u001b[0;36m10\u001b[0m\u001b[0;34m\u001b[0m\u001b[0;34m\u001b[0m\u001b[0m\n\u001b[0;32m----> 2\u001b[0;31m \u001b[0mx\u001b[0m\u001b[0;34m=\u001b[0m\u001b[0;36m1.2\u001b[0m\u001b[0;34m+\u001b[0m\u001b[0;36m8\u001b[0m\u001b[0;34m+\u001b[0m\u001b[0msin\u001b[0m\u001b[0;34m(\u001b[0m\u001b[0my\u001b[0m\u001b[0;34m)\u001b[0m\u001b[0;34m\u001b[0m\u001b[0;34m\u001b[0m\u001b[0m\n\u001b[0m\u001b[1;32m      3\u001b[0m \u001b[0mprint\u001b[0m\u001b[0;34m(\u001b[0m\u001b[0my\u001b[0m\u001b[0;34m)\u001b[0m\u001b[0;34m\u001b[0m\u001b[0;34m\u001b[0m\u001b[0m\n",
            "\u001b[0;31mNameError\u001b[0m: name 'sin' is not defined"
          ]
        }
      ]
    },
    {
      "cell_type": "markdown",
      "source": [
        "15)Multiple assignment"
      ],
      "metadata": {
        "id": "pvcL6B6zO8Hh"
      }
    },
    {
      "cell_type": "code",
      "source": [
        "a=b=c=3\n",
        "print(a+b+c)"
      ],
      "metadata": {
        "colab": {
          "base_uri": "https://localhost:8080/"
        },
        "id": "E8IEofPtLwKW",
        "outputId": "a9f08396-013e-42b2-93a7-d3dc93067592"
      },
      "execution_count": 13,
      "outputs": [
        {
          "output_type": "stream",
          "name": "stdout",
          "text": [
            "9\n"
          ]
        }
      ]
    },
    {
      "cell_type": "markdown",
      "source": [
        "16)Swapping two values"
      ],
      "metadata": {
        "id": "DG3jmkQCO_WQ"
      }
    },
    {
      "cell_type": "code",
      "source": [
        "a=5\n",
        "b=10\n",
        "print(\"a= \",a,\"b= \",b)\n",
        "a,b=b,a\n",
        "print(\"a= \",a,\"b= \",b)"
      ],
      "metadata": {
        "colab": {
          "base_uri": "https://localhost:8080/"
        },
        "id": "DrQfD2ZbMJlx",
        "outputId": "73c47009-4c3e-40d2-b3d5-809824e1bf57"
      },
      "execution_count": 14,
      "outputs": [
        {
          "output_type": "stream",
          "name": "stdout",
          "text": [
            "a=  5 b=  10\n",
            "a=  10 b=  5\n"
          ]
        }
      ]
    },
    {
      "cell_type": "markdown",
      "source": [
        "17)Augmented assignment"
      ],
      "metadata": {
        "id": "8DwKyzJxPD0P"
      }
    },
    {
      "cell_type": "code",
      "source": [
        "x=5\n",
        "x+=5\n",
        "print(x)\n",
        "x*=3\n",
        "print(x)"
      ],
      "metadata": {
        "colab": {
          "base_uri": "https://localhost:8080/"
        },
        "id": "bWblTMDqMl89",
        "outputId": "75ba86e7-9d94-4472-f766-8939e848f015"
      },
      "execution_count": 15,
      "outputs": [
        {
          "output_type": "stream",
          "name": "stdout",
          "text": [
            "10\n",
            "30\n"
          ]
        }
      ]
    },
    {
      "cell_type": "markdown",
      "source": [
        "18)Boolean values"
      ],
      "metadata": {
        "id": "7igSLBhoPSLx"
      }
    },
    {
      "cell_type": "code",
      "source": [
        "print(type(True))\n",
        "print(type('True'))"
      ],
      "metadata": {
        "colab": {
          "base_uri": "https://localhost:8080/"
        },
        "id": "6KFmWFShPTAJ",
        "outputId": "a6a8dd95-caa6-4fb5-bf1e-63753cf98e52"
      },
      "execution_count": 19,
      "outputs": [
        {
          "output_type": "stream",
          "name": "stdout",
          "text": [
            "<class 'bool'>\n",
            "<class 'str'>\n"
          ]
        }
      ]
    },
    {
      "cell_type": "markdown",
      "source": [
        "19)Dynamic typing"
      ],
      "metadata": {
        "id": "BJJwkAxePhAc"
      }
    },
    {
      "cell_type": "code",
      "source": [
        "x=5\n",
        "y=10\n",
        "print(\"x=\",x,\"y=\",y)\n",
        "x=y\n",
        "print(\"x=\",x,\"y=\",y)"
      ],
      "metadata": {
        "colab": {
          "base_uri": "https://localhost:8080/"
        },
        "id": "SW8yQzN2QW2Y",
        "outputId": "cd944edf-815b-4b62-b45f-adbeca2a29af"
      },
      "execution_count": 20,
      "outputs": [
        {
          "output_type": "stream",
          "name": "stdout",
          "text": [
            "x= 5 y= 10\n",
            "x= 10 y= 10\n"
          ]
        }
      ]
    },
    {
      "cell_type": "markdown",
      "source": [
        "20)Remainder"
      ],
      "metadata": {
        "id": "e5v3SC5AQ50Q"
      }
    },
    {
      "cell_type": "code",
      "source": [
        "x=10\n",
        "y=3\n",
        "z=x%y\n",
        "print(z)"
      ],
      "metadata": {
        "colab": {
          "base_uri": "https://localhost:8080/"
        },
        "id": "v9axjP5mRPXA",
        "outputId": "a15979b5-ee4f-4f6c-9547-fa1ec3a9c170"
      },
      "execution_count": 21,
      "outputs": [
        {
          "output_type": "stream",
          "name": "stdout",
          "text": [
            "1\n"
          ]
        }
      ]
    },
    {
      "cell_type": "markdown",
      "source": [
        "21)Checking odd or even"
      ],
      "metadata": {
        "id": "Z-UohDifUf6O"
      }
    },
    {
      "cell_type": "code",
      "source": [
        "age=int(input(\"Enter your age: \"))\n",
        "if age>=18:\n",
        "  print(\"You are eligible to vote\")\n",
        "else:\n",
        "  print(\"You are uneligible to vote\")  "
      ],
      "metadata": {
        "colab": {
          "base_uri": "https://localhost:8080/"
        },
        "id": "QJ-v8wvxUh02",
        "outputId": "3fa26003-46c0-4bbd-8f5f-9d7455b31f8c"
      },
      "execution_count": 22,
      "outputs": [
        {
          "output_type": "stream",
          "name": "stdout",
          "text": [
            "Enter your age: 23\n",
            "You are eligible to vote\n"
          ]
        }
      ]
    },
    {
      "cell_type": "markdown",
      "source": [
        "22)Divisibility by 5"
      ],
      "metadata": {
        "id": "RkF9G4DiUwCL"
      }
    },
    {
      "cell_type": "code",
      "source": [
        "num=int(input(\"Enter a number: \"))\n",
        "if num%5==0:\n",
        "  print(\"Divisible by 5\")\n",
        "else:\n",
        "  print(\"Not divisible by 5\")  "
      ],
      "metadata": {
        "colab": {
          "base_uri": "https://localhost:8080/"
        },
        "id": "KgrAME6mU1Hj",
        "outputId": "ba1cc3c2-4790-430d-e231-30d7a2f69040"
      },
      "execution_count": 23,
      "outputs": [
        {
          "output_type": "stream",
          "name": "stdout",
          "text": [
            "Enter a number: 25\n",
            "Divisible by 5\n"
          ]
        }
      ]
    }
  ],
  "metadata": {
    "colab": {
      "toc_visible": true,
      "provenance": [],
      "include_colab_link": true
    },
    "kernelspec": {
      "display_name": "Python 3",
      "name": "python3"
    }
  },
  "nbformat": 4,
  "nbformat_minor": 0
}